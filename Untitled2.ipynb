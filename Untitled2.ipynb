{
  "nbformat": 4,
  "nbformat_minor": 0,
  "metadata": {
    "colab": {
      "name": "Untitled2.ipynb",
      "provenance": [],
      "authorship_tag": "ABX9TyPml1yQ8gvjSocr/2O9TOmH",
      "include_colab_link": true
    },
    "kernelspec": {
      "name": "python3",
      "display_name": "Python 3"
    }
  },
  "cells": [
    {
      "cell_type": "markdown",
      "metadata": {
        "id": "view-in-github",
        "colab_type": "text"
      },
      "source": [
        "<a href=\"https://colab.research.google.com/github/VEMULATHARAKAVINAYTEJA9737/VITBML-EDA1/blob/master/Untitled2.ipynb\" target=\"_parent\"><img src=\"https://colab.research.google.com/assets/colab-badge.svg\" alt=\"Open In Colab\"/></a>"
      ]
    },
    {
      "cell_type": "code",
      "metadata": {
        "id": "mFXWW-9j3ask",
        "colab_type": "code",
        "colab": {
          "base_uri": "https://localhost:8080/",
          "height": 252
        },
        "outputId": "2d3f8dda-1c63-4fb7-ed95-325a3e74810c"
      },
      "source": [
        "import pandas as pd\n",
        "import numpy as np\n",
        "import matplotlib.pyplot as plt\n",
        "a=pd.read_csv(\"/content/Telecom_customer churn.csv\")\n",
        "print(a)"
      ],
      "execution_count": 93,
      "outputs": [
        {
          "output_type": "stream",
          "text": [
            "       rev_Mean  mou_Mean  totmrc_Mean  ...  creditcd  eqpdays  Customer_ID\n",
            "0       23.9975    219.25       22.500  ...         Y    361.0      1000001\n",
            "1       57.4925    482.75       37.425  ...         Y    240.0      1000002\n",
            "2       16.9900     10.25       16.990  ...         Y   1504.0      1000003\n",
            "3       38.0000      7.50       38.000  ...         Y   1812.0      1000004\n",
            "4       55.2300    570.50       71.980  ...         Y    434.0      1000005\n",
            "...         ...       ...          ...  ...       ...      ...          ...\n",
            "99995       NaN       NaN          NaN  ...         Y    773.0      1099996\n",
            "99996       NaN       NaN          NaN  ...         Y    835.0      1099997\n",
            "99997       NaN       NaN          NaN  ...         N    433.0      1099998\n",
            "99998       NaN       NaN          NaN  ...         N     75.0      1099999\n",
            "99999       NaN       NaN          NaN  ...         N      5.0      1100000\n",
            "\n",
            "[100000 rows x 100 columns]\n"
          ],
          "name": "stdout"
        }
      ]
    },
    {
      "cell_type": "code",
      "metadata": {
        "id": "aya43nv641zU",
        "colab_type": "code",
        "colab": {
          "base_uri": "https://localhost:8080/",
          "height": 84
        },
        "outputId": "f7343311-5c31-4157-ee59-7169143ae6fc"
      },
      "source": [
        "print(a.ndim)\n",
        "print(a.shape)\n",
        "print(a.size)\n",
        "print(a.shape)\n"
      ],
      "execution_count": 94,
      "outputs": [
        {
          "output_type": "stream",
          "text": [
            "2\n",
            "(100000, 100)\n",
            "10000000\n",
            "(100000, 100)\n"
          ],
          "name": "stdout"
        }
      ]
    },
    {
      "cell_type": "code",
      "metadata": {
        "id": "i9-LSOy_6qrm",
        "colab_type": "code",
        "colab": {
          "base_uri": "https://localhost:8080/",
          "height": 134
        },
        "outputId": "bf7e24b3-e349-4aa3-e754-cff8411e1cac"
      },
      "source": [
        "d=a.loc[0:5,['area','hnd_price','avgmou']]\n",
        "print(d)"
      ],
      "execution_count": 95,
      "outputs": [
        {
          "output_type": "stream",
          "text": [
            "                            area  hnd_price  avgmou\n",
            "0  NORTHWEST/ROCKY MOUNTAIN AREA  149.98999   83.37\n",
            "1                   CHICAGO AREA        NaN  479.40\n",
            "2               GREAT LAKES AREA   29.98999  433.98\n",
            "3                   CHICAGO AREA   29.98999   63.23\n",
            "4               NEW ENGLAND AREA  149.98999  249.38\n",
            "5               GREAT LAKES AREA  129.98999  857.34\n"
          ],
          "name": "stdout"
        }
      ]
    },
    {
      "cell_type": "code",
      "metadata": {
        "id": "skcTwLut-q8e",
        "colab_type": "code",
        "colab": {
          "base_uri": "https://localhost:8080/",
          "height": 262
        },
        "outputId": "0f173400-c735-4752-dbd2-64080c7a4193"
      },
      "source": [
        "d.plot(kind=\"bar\")\n",
        "plt.show()"
      ],
      "execution_count": 96,
      "outputs": [
        {
          "output_type": "display_data",
          "data": {
            "image/png": "[encoded data removed]",
            "text/plain": [
              "<Figure size 432x288 with 1 Axes>"
            ]
          },
          "metadata": {
            "tags": []
          }
        }
      ]
    },
    {
      "cell_type": "code",
      "metadata": {
        "id": "w5rzu7miAnjQ",
        "colab_type": "code",
        "colab": {
          "base_uri": "https://localhost:8080/",
          "height": 151
        },
        "outputId": "cfe6e86a-2fa9-47b1-8577-a88d24a00ffc"
      },
      "source": [
        "d.set_index(\"area\",inplace=True)\n",
        "print(d)"
      ],
      "execution_count": 97,
      "outputs": [
        {
          "output_type": "stream",
          "text": [
            "                               hnd_price  avgmou\n",
            "area                                            \n",
            "NORTHWEST/ROCKY MOUNTAIN AREA  149.98999   83.37\n",
            "CHICAGO AREA                         NaN  479.40\n",
            "GREAT LAKES AREA                29.98999  433.98\n",
            "CHICAGO AREA                    29.98999   63.23\n",
            "NEW ENGLAND AREA               149.98999  249.38\n",
            "GREAT LAKES AREA               129.98999  857.34\n"
          ],
          "name": "stdout"
        }
      ]
    },
    {
      "cell_type": "code",
      "metadata": {
        "id": "Defk9DK_BnDG",
        "colab_type": "code",
        "colab": {
          "base_uri": "https://localhost:8080/",
          "height": 279
        },
        "outputId": "376ba180-f2bb-490c-dcc4-4dd06b9d2f1e"
      },
      "source": [
        "d.plot()\n",
        "plt.show()"
      ],
      "execution_count": 98,
      "outputs": [
        {
          "output_type": "display_data",
          "data": {
            "image/png": "[encoded data removed]",
            "text/plain": [
              "<Figure size 432x288 with 1 Axes>"
            ]
          },
          "metadata": {
            "tags": []
          }
        }
      ]
    },
    {
      "cell_type": "code",
      "metadata": {
        "id": "P3CPUPGXFgji",
        "colab_type": "code",
        "colab": {
          "base_uri": "https://localhost:8080/",
          "height": 265
        },
        "outputId": "e3c7ade0-1873-4ec2-fd06-aaf4f98d6c38"
      },
      "source": [
        "plt.scatter(d['avgmou'],d[\"hnd_price\"])\n",
        "plt.show()"
      ],
      "execution_count": 99,
      "outputs": [
        {
          "output_type": "display_data",
          "data": {
            "image/png": "[encoded data removed]",
            "text/plain": [
              "<Figure size 432x288 with 1 Axes>"
            ]
          },
          "metadata": {
            "tags": []
          }
        }
      ]
    },
    {
      "cell_type": "code",
      "metadata": {
        "id": "yg7lgnHACj_K",
        "colab_type": "code",
        "colab": {}
      },
      "source": [
        ""
      ],
      "execution_count": 0,
      "outputs": []
    },
    {
      "cell_type": "code",
      "metadata": {
        "id": "fZNASnSrKKm0",
        "colab_type": "code",
        "colab": {}
      },
      "source": [
        ""
      ],
      "execution_count": 0,
      "outputs": []
    }
  ]
}